{
  "nbformat": 4,
  "nbformat_minor": 0,
  "metadata": {
    "accelerator": "GPU",
    "colab": {
      "name": "modelTrainor.ipynb",
      "provenance": [],
      "authorship_tag": "ABX9TyNs4k9mufdqATO8FocUx/e6",
      "include_colab_link": true
    },
    "kernelspec": {
      "display_name": "Python 3",
      "name": "python3"
    }
  },
  "cells": [
    {
      "cell_type": "markdown",
      "metadata": {
        "id": "view-in-github",
        "colab_type": "text"
      },
      "source": [
        "<a href=\"https://colab.research.google.com/github/ashutosh7599/Glaucoma-detection-multi-texture-analysis/blob/main/modelTrainor.ipynb\" target=\"_parent\"><img src=\"https://colab.research.google.com/assets/colab-badge.svg\" alt=\"Open In Colab\"/></a>"
      ]
    },
    {
      "cell_type": "code",
      "metadata": {
        "id": "GEyCxVhAioNu",
        "outputId": "9610b494-e664-4787-9283-a8a172d9c309",
        "colab": {
          "base_uri": "https://localhost:8080/"
        }
      },
      "source": [
        "from google.colab import drive\n",
        "drive.mount('/content/drive')"
      ],
      "execution_count": 1,
      "outputs": [
        {
          "output_type": "stream",
          "text": [
            "Mounted at /content/drive\n"
          ],
          "name": "stdout"
        }
      ]
    },
    {
      "cell_type": "code",
      "metadata": {
        "id": "BsykWXO5i8il",
        "outputId": "1a721ba7-f896-4159-9278-fcce261465ec",
        "colab": {
          "base_uri": "https://localhost:8080/"
        }
      },
      "source": [
        "!ls \"/content/drive/My Drive/acrima\""
      ],
      "execution_count": 2,
      "outputs": [
        {
          "output_type": "stream",
          "text": [
            "test  train\n"
          ],
          "name": "stdout"
        }
      ]
    },
    {
      "cell_type": "code",
      "metadata": {
        "id": "_glfjK9VjBCh"
      },
      "source": [
        "classes_dir = ['glaucoma', 'sanas'] #total labels\n",
        "drivePath = '/content/drive/My Drive/acrima/'"
      ],
      "execution_count": 3,
      "outputs": []
    },
    {
      "cell_type": "code",
      "metadata": {
        "id": "przy6CVPjMHf",
        "outputId": "eab94f2a-e5c8-4b41-9474-a3e13c9168b5",
        "colab": {
          "base_uri": "https://localhost:8080/"
        }
      },
      "source": [
        "!rm -rf /content/data\n",
        "\n",
        "\n",
        "import shutil\n",
        "import os\n",
        "import random\n",
        "import numpy as np\n",
        "root_dir = '/content/drive/My Drive/ORIGA/originales/' # data root path\n",
        "contentDir = '/content/data/'\n",
        "\n",
        "val_ratio = 0.10\n",
        "# test_ratio = 0.05\n",
        "\n",
        "for cls in classes_dir:\n",
        "    os.makedirs(contentDir +'train/' + cls)\n",
        "    os.makedirs(contentDir +'val/' + cls)\n",
        "    os.makedirs(contentDir +'test/' + cls)\n",
        "\n",
        "\n",
        "src = root_dir + cls \n",
        "\n",
        "allFileNames = os.listdir(src)\n",
        "np.random.shuffle(allFileNames)\n",
        "train_FileNames, val_FileNames, test_FileNames = np.split(np.array(allFileNames),\n",
        "                                                          [int(len(allFileNames)* (1 - (val_ratio + test_ratio))), \n",
        "                                                           int(len(allFileNames)* (1 - test_ratio))])\n",
        "\n",
        "\n",
        "train_FileNames = [src+'/'+ name for name in train_FileNames.tolist()]\n",
        "val_FileNames = [src+'/' + name for name in val_FileNames.tolist()]\n",
        "test_FileNames = [src+'/' + name for name in test_FileNames.tolist()]\n",
        "\n",
        "print('Total images: ', len(allFileNames))\n",
        "print('Training: ', len(train_FileNames))\n",
        "print('Validation: ', len(val_FileNames))\n",
        "print('Testing: ', len(test_FileNames))\n",
        "\n",
        "# Copy-pasting images\n",
        "for name in train_FileNames:\n",
        "    shutil.copy(name, contentDir +'train/' + cls)\n",
        "\n",
        "for name in val_FileNames:\n",
        "    shutil.copy(name, contentDir +'val/' + cls)\n",
        "\n",
        "# for name in test_FileNames:\n",
        "#     shutil.copy(name, contentDir +'test/' + cls)\n"
      ],
      "execution_count": null,
      "outputs": [
        {
          "output_type": "stream",
          "text": [
            "Total images:  482\n",
            "Training:  385\n",
            "Validation:  72\n",
            "Testing:  25\n"
          ],
          "name": "stdout"
        }
      ]
    },
    {
      "cell_type": "code",
      "metadata": {
        "id": "FHegJKg6l7mi",
        "outputId": "54b4ae03-9422-41af-aa4c-cb028a8367fe",
        "colab": {
          "base_uri": "https://localhost:8080/"
        }
      },
      "source": [
        "!ls \"/content/data/test/glaucoma/\""
      ],
      "execution_count": 4,
      "outputs": [
        {
          "output_type": "stream",
          "text": [
            "ls: cannot access '/content/data/test/glaucoma/': No such file or directory\n"
          ],
          "name": "stdout"
        }
      ]
    },
    {
      "cell_type": "code",
      "metadata": {
        "id": "o27wmacdm_SS"
      },
      "source": [
        "trainPath = drivePath + 'train/'\n",
        "testPath =  drivePath + 'test/'"
      ],
      "execution_count": 4,
      "outputs": []
    },
    {
      "cell_type": "code",
      "metadata": {
        "id": "CruCxdBeoV1t"
      },
      "source": [
        "import numpy as np\n",
        "import keras\n",
        "from keras import backend as K\n",
        "from keras.models import Sequential\n",
        "from keras.layers import Activation\n",
        "from keras.optimizers import Adam\n",
        "from keras.callbacks import ModelCheckpoint\n",
        "from keras.metrics import categorical_crossentropy\n",
        "from keras.preprocessing.image import ImageDataGenerator\n",
        "from keras.layers.convolutional import *\n",
        "from keras.layers.normalization import BatchNormalization\n",
        "from keras.layers.core import Dense, Flatten\n",
        "from sklearn.metrics import confusion_matrix\n",
        "import itertools\n",
        "import matplotlib.pyplot as plt\n",
        "%matplotlib inline\n",
        "from keras.callbacks import History \n",
        "history = History()"
      ],
      "execution_count": 5,
      "outputs": []
    },
    {
      "cell_type": "code",
      "metadata": {
        "id": "0pOU_yLYnfh0",
        "outputId": "3e905d5a-fcfe-4c04-8589-c489d766bce3",
        "colab": {
          "base_uri": "https://localhost:8080/"
        }
      },
      "source": [
        "trainData = ImageDataGenerator(rotation_range=10, width_shift_range=0.1, \n",
        "       height_shift_range=0.1, shear_range=0.15, zoom_range=0.1, \n",
        "       channel_shift_range=10., horizontal_flip=True).flow_from_directory(trainPath, target_size=(224,224), classes =classes_dir)\n",
        "testData = ImageDataGenerator(rotation_range=10, width_shift_range=0.1, \n",
        "       height_shift_range=0.1, shear_range=0.15, zoom_range=0.1, \n",
        "       channel_shift_range=10., horizontal_flip=True).flow_from_directory(testPath, target_size=(224,224), classes =classes_dir)\n",
        "       \n",
        "# validationData = ImageDataGenerator(rotation_range=10, width_shift_range=0.1, \n",
        "#        height_shift_range=0.1, shear_range=0.15, zoom_range=0.1, \n",
        "#        channel_shift_range=10., horizontal_flip=True).flow_from_directory('/content/valData/', target_size=(224,224), classes =classes_dir)"
      ],
      "execution_count": 6,
      "outputs": [
        {
          "output_type": "stream",
          "text": [
            "Found 647 images belonging to 2 classes.\n",
            "Found 58 images belonging to 2 classes.\n"
          ],
          "name": "stdout"
        }
      ]
    },
    {
      "cell_type": "code",
      "metadata": {
        "id": "RCsVTqeBokyZ",
        "outputId": "f84154bc-2fd9-4fdc-8ba3-64f4e5194f2a",
        "colab": {
          "base_uri": "https://localhost:8080/"
        }
      },
      "source": [
        "vgg16 = keras.applications.vgg16.VGG16()"
      ],
      "execution_count": 7,
      "outputs": [
        {
          "output_type": "stream",
          "text": [
            "Downloading data from https://storage.googleapis.com/tensorflow/keras-applications/vgg16/vgg16_weights_tf_dim_ordering_tf_kernels.h5\n",
            "553467904/553467096 [==============================] - 9s 0us/step\n"
          ],
          "name": "stdout"
        }
      ]
    },
    {
      "cell_type": "code",
      "metadata": {
        "id": "uRV7o6FHoy2u",
        "outputId": "d1511840-650e-4dd7-f926-d217efe99b24",
        "colab": {
          "base_uri": "https://localhost:8080/"
        }
      },
      "source": [
        "type(vgg16)"
      ],
      "execution_count": 8,
      "outputs": [
        {
          "output_type": "execute_result",
          "data": {
            "text/plain": [
              "tensorflow.python.keras.engine.functional.Functional"
            ]
          },
          "metadata": {
            "tags": []
          },
          "execution_count": 8
        }
      ]
    },
    {
      "cell_type": "code",
      "metadata": {
        "id": "0tLTsJ_5o1pn"
      },
      "source": [
        "model_vgg16 = Sequential()\n",
        "for l in vgg16.layers[:-1]:\n",
        "    model_vgg16.add(l)"
      ],
      "execution_count": 9,
      "outputs": []
    },
    {
      "cell_type": "code",
      "metadata": {
        "id": "YwAwWcMuo_Wh"
      },
      "source": [
        "for l in model_vgg16.layers:\n",
        "    l.trainable = False"
      ],
      "execution_count": 10,
      "outputs": []
    },
    {
      "cell_type": "code",
      "metadata": {
        "id": "F0euB7MSpDbw"
      },
      "source": [
        "model_vgg16.add(Dense(2, activation='softmax'))"
      ],
      "execution_count": 11,
      "outputs": []
    },
    {
      "cell_type": "code",
      "metadata": {
        "id": "x6kss1z5pLPJ",
        "outputId": "f446122a-53b5-4d18-9c66-d190a9181e61",
        "colab": {
          "base_uri": "https://localhost:8080/"
        }
      },
      "source": [
        "model_vgg16.summary()"
      ],
      "execution_count": 12,
      "outputs": [
        {
          "output_type": "stream",
          "text": [
            "Model: \"sequential\"\n",
            "_________________________________________________________________\n",
            "Layer (type)                 Output Shape              Param #   \n",
            "=================================================================\n",
            "block1_conv1 (Conv2D)        (None, 224, 224, 64)      1792      \n",
            "_________________________________________________________________\n",
            "block1_conv2 (Conv2D)        (None, 224, 224, 64)      36928     \n",
            "_________________________________________________________________\n",
            "block1_pool (MaxPooling2D)   (None, 112, 112, 64)      0         \n",
            "_________________________________________________________________\n",
            "block2_conv1 (Conv2D)        (None, 112, 112, 128)     73856     \n",
            "_________________________________________________________________\n",
            "block2_conv2 (Conv2D)        (None, 112, 112, 128)     147584    \n",
            "_________________________________________________________________\n",
            "block2_pool (MaxPooling2D)   (None, 56, 56, 128)       0         \n",
            "_________________________________________________________________\n",
            "block3_conv1 (Conv2D)        (None, 56, 56, 256)       295168    \n",
            "_________________________________________________________________\n",
            "block3_conv2 (Conv2D)        (None, 56, 56, 256)       590080    \n",
            "_________________________________________________________________\n",
            "block3_conv3 (Conv2D)        (None, 56, 56, 256)       590080    \n",
            "_________________________________________________________________\n",
            "block3_pool (MaxPooling2D)   (None, 28, 28, 256)       0         \n",
            "_________________________________________________________________\n",
            "block4_conv1 (Conv2D)        (None, 28, 28, 512)       1180160   \n",
            "_________________________________________________________________\n",
            "block4_conv2 (Conv2D)        (None, 28, 28, 512)       2359808   \n",
            "_________________________________________________________________\n",
            "block4_conv3 (Conv2D)        (None, 28, 28, 512)       2359808   \n",
            "_________________________________________________________________\n",
            "block4_pool (MaxPooling2D)   (None, 14, 14, 512)       0         \n",
            "_________________________________________________________________\n",
            "block5_conv1 (Conv2D)        (None, 14, 14, 512)       2359808   \n",
            "_________________________________________________________________\n",
            "block5_conv2 (Conv2D)        (None, 14, 14, 512)       2359808   \n",
            "_________________________________________________________________\n",
            "block5_conv3 (Conv2D)        (None, 14, 14, 512)       2359808   \n",
            "_________________________________________________________________\n",
            "block5_pool (MaxPooling2D)   (None, 7, 7, 512)         0         \n",
            "_________________________________________________________________\n",
            "flatten (Flatten)            (None, 25088)             0         \n",
            "_________________________________________________________________\n",
            "fc1 (Dense)                  (None, 4096)              102764544 \n",
            "_________________________________________________________________\n",
            "fc2 (Dense)                  (None, 4096)              16781312  \n",
            "_________________________________________________________________\n",
            "dense (Dense)                (None, 2)                 8194      \n",
            "=================================================================\n",
            "Total params: 134,268,738\n",
            "Trainable params: 8,194\n",
            "Non-trainable params: 134,260,544\n",
            "_________________________________________________________________\n"
          ],
          "name": "stdout"
        }
      ]
    },
    {
      "cell_type": "code",
      "metadata": {
        "id": "DuWNlRxjpQRv"
      },
      "source": [
        "model_vgg16.compile(Adam(lr=.0001), loss='categorical_crossentropy', metrics=['accuracy'])"
      ],
      "execution_count": 13,
      "outputs": []
    },
    {
      "cell_type": "code",
      "metadata": {
        "id": "mLk33m3jKoKm"
      },
      "source": [
        "checkpoint = ModelCheckpoint(\"vgg16_1.h5\", monitor='accuracy', verbose=1, save_best_only=True, save_weights_only=False, mode='auto')"
      ],
      "execution_count": 14,
      "outputs": []
    },
    {
      "cell_type": "code",
      "metadata": {
        "id": "mG2YjZSUDiHt",
        "outputId": "ca65a9e2-aaca-4f43-c315-ceb5df9ba221",
        "colab": {
          "base_uri": "https://localhost:8080/"
        }
      },
      "source": [
        "history_vgg16 = model_vgg16.fit(trainData,validation_data=testData,epochs=40,verbose=1, callbacks=[checkpoint])"
      ],
      "execution_count": null,
      "outputs": [
        {
          "output_type": "stream",
          "text": [
            "Epoch 1/40\n",
            "21/21 [==============================] - ETA: 0s - loss: 0.7279 - accuracy: 0.5703\n",
            "Epoch 00001: accuracy improved from -inf to 0.57032, saving model to vgg16_1.h5\n",
            "21/21 [==============================] - 213s 10s/step - loss: 0.7279 - accuracy: 0.5703 - val_loss: 0.5926 - val_accuracy: 0.6552\n",
            "Epoch 2/40\n",
            "21/21 [==============================] - ETA: 0s - loss: 0.4721 - accuracy: 0.7759\n",
            "Epoch 00002: accuracy improved from 0.57032 to 0.77589, saving model to vgg16_1.h5\n",
            "21/21 [==============================] - 14s 674ms/step - loss: 0.4721 - accuracy: 0.7759 - val_loss: 0.4614 - val_accuracy: 0.7586\n",
            "Epoch 3/40\n",
            "21/21 [==============================] - ETA: 0s - loss: 0.4044 - accuracy: 0.8114\n",
            "Epoch 00003: accuracy improved from 0.77589 to 0.81144, saving model to vgg16_1.h5\n",
            "21/21 [==============================] - 13s 642ms/step - loss: 0.4044 - accuracy: 0.8114 - val_loss: 0.4558 - val_accuracy: 0.7759\n",
            "Epoch 4/40\n",
            "21/21 [==============================] - ETA: 0s - loss: 0.3634 - accuracy: 0.8331\n",
            "Epoch 00004: accuracy improved from 0.81144 to 0.83308, saving model to vgg16_1.h5\n",
            "21/21 [==============================] - 14s 644ms/step - loss: 0.3634 - accuracy: 0.8331 - val_loss: 0.3498 - val_accuracy: 0.8966\n",
            "Epoch 5/40\n",
            "21/21 [==============================] - ETA: 0s - loss: 0.3307 - accuracy: 0.8377\n",
            "Epoch 00005: accuracy improved from 0.83308 to 0.83771, saving model to vgg16_1.h5\n",
            "21/21 [==============================] - 13s 636ms/step - loss: 0.3307 - accuracy: 0.8377 - val_loss: 0.3597 - val_accuracy: 0.8448\n",
            "Epoch 6/40\n",
            "21/21 [==============================] - ETA: 0s - loss: 0.2975 - accuracy: 0.8841\n",
            "Epoch 00006: accuracy improved from 0.83771 to 0.88408, saving model to vgg16_1.h5\n",
            "21/21 [==============================] - 14s 646ms/step - loss: 0.2975 - accuracy: 0.8841 - val_loss: 0.3477 - val_accuracy: 0.8621\n",
            "Epoch 7/40\n",
            "21/21 [==============================] - ETA: 0s - loss: 0.2863 - accuracy: 0.8872\n",
            "Epoch 00007: accuracy improved from 0.88408 to 0.88717, saving model to vgg16_1.h5\n",
            "21/21 [==============================] - 13s 641ms/step - loss: 0.2863 - accuracy: 0.8872 - val_loss: 0.3155 - val_accuracy: 0.8621\n",
            "Epoch 8/40\n",
            "21/21 [==============================] - ETA: 0s - loss: 0.2731 - accuracy: 0.8949\n",
            "Epoch 00008: accuracy improved from 0.88717 to 0.89490, saving model to vgg16_1.h5\n",
            "21/21 [==============================] - 13s 635ms/step - loss: 0.2731 - accuracy: 0.8949 - val_loss: 0.2901 - val_accuracy: 0.8793\n",
            "Epoch 9/40\n",
            "21/21 [==============================] - ETA: 0s - loss: 0.2745 - accuracy: 0.8856\n",
            "Epoch 00009: accuracy did not improve from 0.89490\n",
            "21/21 [==============================] - 12s 553ms/step - loss: 0.2745 - accuracy: 0.8856 - val_loss: 0.3502 - val_accuracy: 0.8448\n",
            "Epoch 10/40\n",
            "21/21 [==============================] - ETA: 0s - loss: 0.2494 - accuracy: 0.9042\n",
            "Epoch 00010: accuracy improved from 0.89490 to 0.90417, saving model to vgg16_1.h5\n",
            "21/21 [==============================] - 13s 632ms/step - loss: 0.2494 - accuracy: 0.9042 - val_loss: 0.2947 - val_accuracy: 0.8793\n",
            "Epoch 11/40\n",
            "21/21 [==============================] - ETA: 0s - loss: 0.2526 - accuracy: 0.8949\n",
            "Epoch 00011: accuracy did not improve from 0.90417\n",
            "21/21 [==============================] - 12s 569ms/step - loss: 0.2526 - accuracy: 0.8949 - val_loss: 0.3488 - val_accuracy: 0.8276\n",
            "Epoch 12/40\n",
            "21/21 [==============================] - ETA: 0s - loss: 0.2522 - accuracy: 0.8903\n",
            "Epoch 00012: accuracy did not improve from 0.90417\n",
            "21/21 [==============================] - 11s 544ms/step - loss: 0.2522 - accuracy: 0.8903 - val_loss: 0.3132 - val_accuracy: 0.8448\n",
            "Epoch 13/40\n",
            "21/21 [==============================] - ETA: 0s - loss: 0.2263 - accuracy: 0.9258\n",
            "Epoch 00013: accuracy improved from 0.90417 to 0.92581, saving model to vgg16_1.h5\n",
            "21/21 [==============================] - 13s 625ms/step - loss: 0.2263 - accuracy: 0.9258 - val_loss: 0.3054 - val_accuracy: 0.8966\n",
            "Epoch 14/40\n",
            "21/21 [==============================] - ETA: 0s - loss: 0.2319 - accuracy: 0.9042\n",
            "Epoch 00014: accuracy did not improve from 0.92581\n",
            "21/21 [==============================] - 11s 540ms/step - loss: 0.2319 - accuracy: 0.9042 - val_loss: 0.3083 - val_accuracy: 0.9138\n",
            "Epoch 15/40\n",
            "21/21 [==============================] - ETA: 0s - loss: 0.2162 - accuracy: 0.9088\n",
            "Epoch 00015: accuracy did not improve from 0.92581\n",
            "21/21 [==============================] - 11s 541ms/step - loss: 0.2162 - accuracy: 0.9088 - val_loss: 0.2743 - val_accuracy: 0.8966\n",
            "Epoch 16/40\n",
            "21/21 [==============================] - ETA: 0s - loss: 0.2226 - accuracy: 0.9088\n",
            "Epoch 00016: accuracy did not improve from 0.92581\n",
            "21/21 [==============================] - 11s 540ms/step - loss: 0.2226 - accuracy: 0.9088 - val_loss: 0.3149 - val_accuracy: 0.8966\n",
            "Epoch 17/40\n",
            "21/21 [==============================] - ETA: 0s - loss: 0.2056 - accuracy: 0.9304\n",
            "Epoch 00017: accuracy improved from 0.92581 to 0.93045, saving model to vgg16_1.h5\n",
            "21/21 [==============================] - 13s 622ms/step - loss: 0.2056 - accuracy: 0.9304 - val_loss: 0.2830 - val_accuracy: 0.8966\n",
            "Epoch 18/40\n",
            "21/21 [==============================] - ETA: 0s - loss: 0.1999 - accuracy: 0.9274\n",
            "Epoch 00018: accuracy did not improve from 0.93045\n",
            "21/21 [==============================] - 11s 537ms/step - loss: 0.1999 - accuracy: 0.9274 - val_loss: 0.2901 - val_accuracy: 0.8621\n",
            "Epoch 19/40\n",
            "21/21 [==============================] - ETA: 0s - loss: 0.1888 - accuracy: 0.9351\n",
            "Epoch 00019: accuracy improved from 0.93045 to 0.93508, saving model to vgg16_1.h5\n",
            "21/21 [==============================] - 13s 611ms/step - loss: 0.1888 - accuracy: 0.9351 - val_loss: 0.2616 - val_accuracy: 0.8793\n",
            "Epoch 20/40\n",
            "21/21 [==============================] - ETA: 0s - loss: 0.1988 - accuracy: 0.9181\n",
            "Epoch 00020: accuracy did not improve from 0.93508\n",
            "21/21 [==============================] - 11s 531ms/step - loss: 0.1988 - accuracy: 0.9181 - val_loss: 0.3500 - val_accuracy: 0.8448\n",
            "Epoch 21/40\n",
            "13/21 [=================>............] - ETA: 3s - loss: 0.2080 - accuracy: 0.9284"
          ],
          "name": "stdout"
        }
      ]
    },
    {
      "cell_type": "code",
      "metadata": {
        "id": "FOqDozAPvR5I"
      },
      "source": [
        "!wget https://deepblue.lib.umich.edu/data/downloads/0r967457f.zip"
      ],
      "execution_count": null,
      "outputs": []
    },
    {
      "cell_type": "code",
      "metadata": {
        "id": "Wpr29iUMxr7_"
      },
      "source": [
        "!unzip 0r967457f"
      ],
      "execution_count": null,
      "outputs": []
    },
    {
      "cell_type": "code",
      "metadata": {
        "id": "tfat1vpYx5VZ"
      },
      "source": [
        "!wget https://www5.cs.fau.de/fileadmin/research/datasets/fundus-images/healthy.zip"
      ],
      "execution_count": null,
      "outputs": []
    },
    {
      "cell_type": "code",
      "metadata": {
        "id": "-tGOv5QI1-Pv"
      },
      "source": [
        "!unzip healthy.zip -d valData/sanas"
      ],
      "execution_count": null,
      "outputs": []
    },
    {
      "cell_type": "code",
      "metadata": {
        "id": "Tc6DbMFZ2CVG"
      },
      "source": [
        "!wget https://www5.cs.fau.de/fileadmin/research/datasets/fundus-images/glaucoma.zip"
      ],
      "execution_count": null,
      "outputs": []
    },
    {
      "cell_type": "code",
      "metadata": {
        "id": "cBMxJLe82KUg"
      },
      "source": [
        "!unzip glaucoma.zip -d valData/glaucoma"
      ],
      "execution_count": null,
      "outputs": []
    },
    {
      "cell_type": "code",
      "metadata": {
        "id": "CCd5etzT2NDm"
      },
      "source": [
        "!mkdir valData"
      ],
      "execution_count": null,
      "outputs": []
    },
    {
      "cell_type": "code",
      "metadata": {
        "id": "ANJe6mM72Yvy"
      },
      "source": [
        "!mkdir valData/glaucoma"
      ],
      "execution_count": null,
      "outputs": []
    },
    {
      "cell_type": "code",
      "metadata": {
        "id": "7SkLsBtO2tse"
      },
      "source": [
        "!mkdir valData/sanas"
      ],
      "execution_count": null,
      "outputs": []
    },
    {
      "cell_type": "code",
      "metadata": {
        "id": "48kOPiVVP4ph"
      },
      "source": [
        ""
      ],
      "execution_count": null,
      "outputs": []
    },
    {
      "cell_type": "code",
      "metadata": {
        "id": "MP4gfeyr5S1I",
        "outputId": "f64cc343-bcd2-4d87-f51f-540fa0b84170",
        "colab": {
          "base_uri": "https://localhost:8080/",
          "height": 295
        }
      },
      "source": [
        "import matplotlib.pyplot as plt\n",
        "plt.plot(history_vgg16.history['accuracy'])\n",
        "plt.plot(history_vgg16.history['val_accuracy'])\n",
        "plt.title('Model accuracy')\n",
        "plt.ylabel('Accuracy')\n",
        "plt.xlabel('Epoch')\n",
        "plt.legend(['Train', 'Test'], loc='upper left')\n",
        "plt.show()"
      ],
      "execution_count": 51,
      "outputs": [
        {
          "output_type": "display_data",
          "data": {
            "image/png": "[encoded data removed]",
            "text/plain": [
              "<Figure size 432x288 with 1 Axes>"
            ]
          },
          "metadata": {
            "tags": [],
            "needs_background": "light"
          }
        }
      ]
    },
    {
      "cell_type": "code",
      "metadata": {
        "id": "Rd7YxQy75UyL",
        "outputId": "c18667fd-7b5f-485f-e3c0-bf3a5e2169df",
        "colab": {
          "base_uri": "https://localhost:8080/",
          "height": 295
        }
      },
      "source": [
        "plt.plot(history_vgg16.history['loss'])\n",
        "plt.plot(history_vgg16.history['val_loss'])\n",
        "plt.title('Model loss')\n",
        "plt.ylabel('Loss')\n",
        "plt.xlabel('Epoch')\n",
        "plt.legend(['Train', 'Test'], loc='upper left')\n",
        "plt.show()"
      ],
      "execution_count": 52,
      "outputs": [
        {
          "output_type": "display_data",
          "data": {
            "image/png": "[encoded data removed]",
            "text/plain": [
              "<Figure size 432x288 with 1 Axes>"
            ]
          },
          "metadata": {
            "tags": [],
            "needs_background": "light"
          }
        }
      ]
    },
    {
      "cell_type": "code",
      "metadata": {
        "id": "XlUyQuOw8SlN",
        "outputId": "407f224d-8138-439f-fd61-e5ce400886c6",
        "colab": {
          "base_uri": "https://localhost:8080/"
        }
      },
      "source": [
        "vgg19 = keras.applications.vgg19.VGG19()"
      ],
      "execution_count": 53,
      "outputs": [
        {
          "output_type": "stream",
          "text": [
            "Downloading data from https://storage.googleapis.com/tensorflow/keras-applications/vgg19/vgg19_weights_tf_dim_ordering_tf_kernels.h5\n",
            "574717952/574710816 [==============================] - 20s 0us/step\n"
          ],
          "name": "stdout"
        }
      ]
    },
    {
      "cell_type": "code",
      "metadata": {
        "id": "QrrNQFxKOOSc",
        "outputId": "1fed8e59-ae2a-4e85-c115-613797596a19",
        "colab": {
          "base_uri": "https://localhost:8080/"
        }
      },
      "source": [
        "type(vgg19)\n"
      ],
      "execution_count": 54,
      "outputs": [
        {
          "output_type": "execute_result",
          "data": {
            "text/plain": [
              "tensorflow.python.keras.engine.functional.Functional"
            ]
          },
          "metadata": {
            "tags": []
          },
          "execution_count": 54
        }
      ]
    },
    {
      "cell_type": "code",
      "metadata": {
        "id": "7RCX-loeOTIJ"
      },
      "source": [
        "model_vgg19 = Sequential()\n",
        "for layer in vgg19.layers[:-1]:\n",
        "    model_vgg19.add(layer)"
      ],
      "execution_count": 55,
      "outputs": []
    },
    {
      "cell_type": "code",
      "metadata": {
        "id": "1iwF4uC1On_m"
      },
      "source": [
        "for layer in model_vgg19.layers:\n",
        "    layer.trainable = False"
      ],
      "execution_count": 56,
      "outputs": []
    },
    {
      "cell_type": "code",
      "metadata": {
        "id": "a8Mg_BlIOtxY"
      },
      "source": [
        "model_vgg19.add(Dense(2, activation='softmax'))"
      ],
      "execution_count": 57,
      "outputs": []
    },
    {
      "cell_type": "code",
      "metadata": {
        "id": "SFWrEtV1Ozmp",
        "outputId": "ae5ac87e-ea0a-4db8-e51d-11c9e92a1cc4",
        "colab": {
          "base_uri": "https://localhost:8080/"
        }
      },
      "source": [
        "model_vgg19.summary()"
      ],
      "execution_count": 60,
      "outputs": [
        {
          "output_type": "stream",
          "text": [
            "Model: \"sequential_3\"\n",
            "_________________________________________________________________\n",
            "Layer (type)                 Output Shape              Param #   \n",
            "=================================================================\n",
            "block1_conv1 (Conv2D)        (None, 224, 224, 64)      1792      \n",
            "_________________________________________________________________\n",
            "block1_conv2 (Conv2D)        (None, 224, 224, 64)      36928     \n",
            "_________________________________________________________________\n",
            "block1_pool (MaxPooling2D)   (None, 112, 112, 64)      0         \n",
            "_________________________________________________________________\n",
            "block2_conv1 (Conv2D)        (None, 112, 112, 128)     73856     \n",
            "_________________________________________________________________\n",
            "block2_conv2 (Conv2D)        (None, 112, 112, 128)     147584    \n",
            "_________________________________________________________________\n",
            "block2_pool (MaxPooling2D)   (None, 56, 56, 128)       0         \n",
            "_________________________________________________________________\n",
            "block3_conv1 (Conv2D)        (None, 56, 56, 256)       295168    \n",
            "_________________________________________________________________\n",
            "block3_conv2 (Conv2D)        (None, 56, 56, 256)       590080    \n",
            "_________________________________________________________________\n",
            "block3_conv3 (Conv2D)        (None, 56, 56, 256)       590080    \n",
            "_________________________________________________________________\n",
            "block3_conv4 (Conv2D)        (None, 56, 56, 256)       590080    \n",
            "_________________________________________________________________\n",
            "block3_pool (MaxPooling2D)   (None, 28, 28, 256)       0         \n",
            "_________________________________________________________________\n",
            "block4_conv1 (Conv2D)        (None, 28, 28, 512)       1180160   \n",
            "_________________________________________________________________\n",
            "block4_conv2 (Conv2D)        (None, 28, 28, 512)       2359808   \n",
            "_________________________________________________________________\n",
            "block4_conv3 (Conv2D)        (None, 28, 28, 512)       2359808   \n",
            "_________________________________________________________________\n",
            "block4_conv4 (Conv2D)        (None, 28, 28, 512)       2359808   \n",
            "_________________________________________________________________\n",
            "block4_pool (MaxPooling2D)   (None, 14, 14, 512)       0         \n",
            "_________________________________________________________________\n",
            "block5_conv1 (Conv2D)        (None, 14, 14, 512)       2359808   \n",
            "_________________________________________________________________\n",
            "block5_conv2 (Conv2D)        (None, 14, 14, 512)       2359808   \n",
            "_________________________________________________________________\n",
            "block5_conv3 (Conv2D)        (None, 14, 14, 512)       2359808   \n",
            "_________________________________________________________________\n",
            "block5_conv4 (Conv2D)        (None, 14, 14, 512)       2359808   \n",
            "_________________________________________________________________\n",
            "block5_pool (MaxPooling2D)   (None, 7, 7, 512)         0         \n",
            "_________________________________________________________________\n",
            "flatten (Flatten)            (None, 25088)             0         \n",
            "_________________________________________________________________\n",
            "fc1 (Dense)                  (None, 4096)              102764544 \n",
            "_________________________________________________________________\n",
            "fc2 (Dense)                  (None, 4096)              16781312  \n",
            "_________________________________________________________________\n",
            "dense_3 (Dense)              (None, 2)                 8194      \n",
            "=================================================================\n",
            "Total params: 139,578,434\n",
            "Trainable params: 8,194\n",
            "Non-trainable params: 139,570,240\n",
            "_________________________________________________________________\n"
          ],
          "name": "stdout"
        }
      ]
    },
    {
      "cell_type": "code",
      "metadata": {
        "id": "Fs-NYW6CO1kJ"
      },
      "source": [
        "model_vgg19.compile(Adam(lr=.0001), loss='categorical_crossentropy', metrics=['accuracy'])"
      ],
      "execution_count": 61,
      "outputs": []
    },
    {
      "cell_type": "code",
      "metadata": {
        "id": "lFTNX9W-O8nx"
      },
      "source": [
        "checkpoint_vgg19 = ModelCheckpoint(\"vgg19_1.h5\", monitor='accuracy', verbose=1, save_best_only=True, save_weights_only=False, mode='auto')\n"
      ],
      "execution_count": 63,
      "outputs": []
    },
    {
      "cell_type": "code",
      "metadata": {
        "id": "LJMq0EbJPMdz",
        "outputId": "a5367adb-fa41-473b-b908-93d74113c3c6",
        "colab": {
          "base_uri": "https://localhost:8080/"
        }
      },
      "source": [
        "\n",
        "history_vgg19 = model_vgg19.fit(trainData,validation_data=testData,epochs=40,verbose=1, callbacks=[checkpoint_vgg19])\n"
      ],
      "execution_count": 64,
      "outputs": [
        {
          "output_type": "stream",
          "text": [
            "Epoch 1/2\n",
            "21/21 [==============================] - ETA: 0s - loss: 1.1624 - accuracy: 0.3957\n",
            "Epoch 00001: accuracy improved from -inf to 0.39567, saving model to vgg19_1.h5\n",
            "21/21 [==============================] - 14s 657ms/step - loss: 1.1624 - accuracy: 0.3957 - val_loss: 0.8512 - val_accuracy: 0.5000\n",
            "Epoch 2/2\n",
            "21/21 [==============================] - ETA: 0s - loss: 0.7541 - accuracy: 0.5456\n",
            "Epoch 00002: accuracy improved from 0.39567 to 0.54560, saving model to vgg19_1.h5\n",
            "21/21 [==============================] - 13s 635ms/step - loss: 0.7541 - accuracy: 0.5456 - val_loss: 0.6918 - val_accuracy: 0.6379\n"
          ],
          "name": "stdout"
        }
      ]
    },
    {
      "cell_type": "code",
      "metadata": {
        "id": "R4NpVhe4PdDl"
      },
      "source": [
        ""
      ],
      "execution_count": null,
      "outputs": []
    }
  ]
}